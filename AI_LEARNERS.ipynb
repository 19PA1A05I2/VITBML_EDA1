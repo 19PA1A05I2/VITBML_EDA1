{
  "nbformat": 4,
  "nbformat_minor": 0,
  "metadata": {
    "colab": {
      "name": "AI_LEARNERS.ipynb",
      "provenance": [],
      "authorship_tag": "ABX9TyM8cpNVQaaTOY2/u9D2FRYk",
      "include_colab_link": true
    },
    "kernelspec": {
      "name": "python3",
      "display_name": "Python 3"
    }
  },
  "cells": [
    {
      "cell_type": "markdown",
      "metadata": {
        "id": "view-in-github",
        "colab_type": "text"
      },
      "source": [
        "<a href=\"https://colab.research.google.com/github/19PA1A05I2/VITBML_EDA1/blob/master/AI_LEARNERS.ipynb\" target=\"_parent\"><img src=\"https://colab.research.google.com/assets/colab-badge.svg\" alt=\"Open In Colab\"/></a>"
      ]
    },
    {
      "cell_type": "markdown",
      "metadata": {
        "id": "2Pevcm5CrmTz",
        "colab_type": "text"
      },
      "source": [
        "**IRIS DATA SET VISUALISATION**"
      ]
    },
    {
      "cell_type": "code",
      "metadata": {
        "id": "6kwCSRjMrm81",
        "colab_type": "code",
        "colab": {}
      },
      "source": [
        "# Importing the libraries\n",
        "import numpy as np \n",
        "import pandas as pd"
      ],
      "execution_count": 0,
      "outputs": []
    },
    {
      "cell_type": "code",
      "metadata": {
        "id": "x2jBx-9acPML",
        "colab_type": "code",
        "outputId": "44d1c507-f558-4d95-b718-a154d0fdc9c2",
        "colab": {
          "base_uri": "https://localhost:8080/",
          "height": 193
        }
      },
      "source": [
        "dataset = pd.read_csv('/content/iris-flower-dataset.zip')\n",
        "print(dataset.columns)\n",
        "dataset.head(3)"
      ],
      "execution_count": 0,
      "outputs": [
        {
          "output_type": "stream",
          "text": [
            "Index(['sepal_length', 'sepal_width', 'petal_length', 'petal_width',\n",
            "       'species'],\n",
            "      dtype='object')\n"
          ],
          "name": "stdout"
        },
        {
          "output_type": "execute_result",
          "data": {
            "text/html": [
              "<div>\n",
              "<style scoped>\n",
              "    .dataframe tbody tr th:only-of-type {\n",
              "        vertical-align: middle;\n",
              "    }\n",
              "\n",
              "    .dataframe tbody tr th {\n",
              "        vertical-align: top;\n",
              "    }\n",
              "\n",
              "    .dataframe thead th {\n",
              "        text-align: right;\n",
              "    }\n",
              "</style>\n",
              "<table border=\"1\" class=\"dataframe\">\n",
              "  <thead>\n",
              "    <tr style=\"text-align: right;\">\n",
              "      <th></th>\n",
              "      <th>sepal_length</th>\n",
              "      <th>sepal_width</th>\n",
              "      <th>petal_length</th>\n",
              "      <th>petal_width</th>\n",
              "      <th>species</th>\n",
              "    </tr>\n",
              "  </thead>\n",
              "  <tbody>\n",
              "    <tr>\n",
              "      <th>0</th>\n",
              "      <td>5.1</td>\n",
              "      <td>3.5</td>\n",
              "      <td>1.4</td>\n",
              "      <td>0.2</td>\n",
              "      <td>Iris-setosa</td>\n",
              "    </tr>\n",
              "    <tr>\n",
              "      <th>1</th>\n",
              "      <td>4.9</td>\n",
              "      <td>3.0</td>\n",
              "      <td>1.4</td>\n",
              "      <td>0.2</td>\n",
              "      <td>Iris-setosa</td>\n",
              "    </tr>\n",
              "    <tr>\n",
              "      <th>2</th>\n",
              "      <td>4.7</td>\n",
              "      <td>3.2</td>\n",
              "      <td>1.3</td>\n",
              "      <td>0.2</td>\n",
              "      <td>Iris-setosa</td>\n",
              "    </tr>\n",
              "  </tbody>\n",
              "</table>\n",
              "</div>"
            ],
            "text/plain": [
              "   sepal_length  sepal_width  petal_length  petal_width      species\n",
              "0           5.1          3.5           1.4          0.2  Iris-setosa\n",
              "1           4.9          3.0           1.4          0.2  Iris-setosa\n",
              "2           4.7          3.2           1.3          0.2  Iris-setosa"
            ]
          },
          "metadata": {
            "tags": []
          },
          "execution_count": 35
        }
      ]
    },
    {
      "cell_type": "code",
      "metadata": {
        "id": "bMW3UFmNcjPl",
        "colab_type": "code",
        "colab": {}
      },
      "source": [
        "# Importing metrics for evaluation\n",
        "from sklearn.metrics import confusion_matrix\n",
        "from sklearn.metrics import classification_report"
      ],
      "execution_count": 0,
      "outputs": []
    },
    {
      "cell_type": "code",
      "metadata": {
        "id": "33VP5guwcmw1",
        "colab_type": "code",
        "colab": {}
      },
      "source": [
        "from sklearn.model_selection import train_test_split\n",
        "X = dataset.iloc[:, :-1].values\n",
        "y = dataset.iloc[:, -1].values\n",
        "X_train, X_test, y_train, y_test = train_test_split(X, y, test_size = 0.2, random_state =452 )"
      ],
      "execution_count": 0,
      "outputs": []
    },
    {
      "cell_type": "markdown",
      "metadata": {
        "id": "EyEyNnrGsBSH",
        "colab_type": "text"
      },
      "source": [
        "**Logistic Regression** \n",
        "\n",
        "Confusion Matrix\n",
        "\n",
        "Accuracy"
      ]
    },
    {
      "cell_type": "code",
      "metadata": {
        "id": "GK81nP7zcDsu",
        "colab_type": "code",
        "outputId": "2899843b-d2cd-48b3-a024-89e78dbc299a",
        "colab": {
          "base_uri": "https://localhost:8080/",
          "height": 255
        }
      },
      "source": [
        "#importing libraries\n",
        "from sklearn.linear_model import LogisticRegression\n",
        "classifier = LogisticRegression()\n",
        "classifier.fit(X_train, y_train)\n",
        "\n",
        "y_pred = classifier.predict(X_test)\n",
        "\n",
        "# Summary of the predictions made by the classifier\n",
        "print(classification_report(y_test, y_pred))\n",
        "print(confusion_matrix(y_test, y_pred))\n",
        "# Accuracy score\n",
        "from sklearn.metrics import accuracy_score\n",
        "print('accuracy is',accuracy_score(y_pred,y_test))\n"
      ],
      "execution_count": 0,
      "outputs": [
        {
          "output_type": "stream",
          "text": [
            "                 precision    recall  f1-score   support\n",
            "\n",
            "    Iris-setosa       1.00      1.00      1.00        10\n",
            "Iris-versicolor       0.92      1.00      0.96        11\n",
            " Iris-virginica       1.00      0.89      0.94         9\n",
            "\n",
            "       accuracy                           0.97        30\n",
            "      macro avg       0.97      0.96      0.97        30\n",
            "   weighted avg       0.97      0.97      0.97        30\n",
            "\n",
            "[[10  0  0]\n",
            " [ 0 11  0]\n",
            " [ 0  1  8]]\n",
            "accuracy is 0.9666666666666667\n"
          ],
          "name": "stdout"
        }
      ]
    },
    {
      "cell_type": "markdown",
      "metadata": {
        "id": "YjJ_dAN6saLy",
        "colab_type": "text"
      },
      "source": [
        "**Support Vector Machines(SVM)**\n",
        "\n",
        "Confusion Matrix\n",
        "\n",
        "Accuracy"
      ]
    },
    {
      "cell_type": "code",
      "metadata": {
        "id": "rH1GA_MrcxED",
        "colab_type": "code",
        "outputId": "4c8fc4be-157b-4e4b-9945-6f6469a62f1f",
        "colab": {
          "base_uri": "https://localhost:8080/",
          "height": 255
        }
      },
      "source": [
        "from sklearn.svm import SVC\n",
        "\n",
        "classifier = SVC()\n",
        "classifier.fit(X_train, y_train)\n",
        "\n",
        "y_pred = classifier.predict(X_test)\n",
        "\n",
        "# Summary of the predictions made by the classifier\n",
        "print(classification_report(y_test, y_pred))\n",
        "print(confusion_matrix(y_test, y_pred))\n",
        "# Accuracy score\n",
        "from sklearn.metrics import accuracy_score\n",
        "print('accuracy is',accuracy_score(y_pred,y_test))"
      ],
      "execution_count": 0,
      "outputs": [
        {
          "output_type": "stream",
          "text": [
            "                 precision    recall  f1-score   support\n",
            "\n",
            "    Iris-setosa       1.00      1.00      1.00        10\n",
            "Iris-versicolor       1.00      1.00      1.00        11\n",
            " Iris-virginica       1.00      1.00      1.00         9\n",
            "\n",
            "       accuracy                           1.00        30\n",
            "      macro avg       1.00      1.00      1.00        30\n",
            "   weighted avg       1.00      1.00      1.00        30\n",
            "\n",
            "[[10  0  0]\n",
            " [ 0 11  0]\n",
            " [ 0  0  9]]\n",
            "accuracy is 1.0\n"
          ],
          "name": "stdout"
        }
      ]
    },
    {
      "cell_type": "markdown",
      "metadata": {
        "id": "x10nSSsqsqVn",
        "colab_type": "text"
      },
      "source": [
        "**Decision Tree**\n",
        "\n",
        "Confusion Matrix\n",
        "\n",
        "Accuracy"
      ]
    },
    {
      "cell_type": "code",
      "metadata": {
        "id": "UzyCZtqrb2zt",
        "colab_type": "code",
        "outputId": "6bff71ab-2b9b-436a-8f5c-e265f3d6e94f",
        "colab": {
          "base_uri": "https://localhost:8080/",
          "height": 255
        }
      },
      "source": [
        "from sklearn.tree import DecisionTreeClassifier\n",
        "\n",
        "classifier = DecisionTreeClassifier()\n",
        "\n",
        "classifier.fit(X_train, y_train)\n",
        "\n",
        "y_pred = classifier.predict(X_test)\n",
        "\n",
        "# Summary of the predictions made by the classifier\n",
        "print(classification_report(y_test, y_pred))\n",
        "print(confusion_matrix(y_test, y_pred))\n",
        "# Accuracy score\n",
        "from sklearn.metrics import accuracy_score\n",
        "print('accuracy is',accuracy_score(y_pred,y_test))"
      ],
      "execution_count": 0,
      "outputs": [
        {
          "output_type": "stream",
          "text": [
            "                 precision    recall  f1-score   support\n",
            "\n",
            "    Iris-setosa       1.00      1.00      1.00        10\n",
            "Iris-versicolor       0.91      0.91      0.91        11\n",
            " Iris-virginica       0.89      0.89      0.89         9\n",
            "\n",
            "       accuracy                           0.93        30\n",
            "      macro avg       0.93      0.93      0.93        30\n",
            "   weighted avg       0.93      0.93      0.93        30\n",
            "\n",
            "[[10  0  0]\n",
            " [ 0 10  1]\n",
            " [ 0  1  8]]\n",
            "accuracy is 0.9333333333333333\n"
          ],
          "name": "stdout"
        }
      ]
    },
    {
      "cell_type": "markdown",
      "metadata": {
        "id": "d7wOYeG3s2q-",
        "colab_type": "text"
      },
      "source": [
        "**K Nearest Neighbours(KNN)**\n",
        "\n",
        "Confusion Matrix\n",
        "\n",
        "Accuracy"
      ]
    },
    {
      "cell_type": "code",
      "metadata": {
        "id": "vV4YibUdd5xc",
        "colab_type": "code",
        "outputId": "42e92caa-4f05-4061-9169-30e90e44679d",
        "colab": {
          "base_uri": "https://localhost:8080/",
          "height": 51
        }
      },
      "source": [
        "from sklearn.neighbors import KNeighborsClassifier  #used to build knn model\n",
        "from sklearn import metrics                         #used to compute accuracy of the model\n",
        "import sklearn.model_selection as ms     \n",
        "y=dataset['species']    #assigns the 'species' attribute as the target variable\n",
        "x = dataset.drop(\"species\",axis=1) #x contains all the predictors of y.hence the 'id' and 'species' columns are dropped from iris\n",
        "\n",
        "x_train,x_test,y_train,y_test=ms.train_test_split(x,y,test_size=0.3,random_state=1) #the dataset is split into train and test data\n",
        "\n",
        "#build the knn model for k=7\n",
        "knn1 = KNeighborsClassifier(n_neighbors=7, metric='euclidean')\n",
        "knn1.fit(x_train,y_train)\n",
        "y_pred = knn1.predict(x_test)\n",
        "print(\"The accuracy of the model: \",metrics.accuracy_score(y_test,y_pred))\n",
        "\n",
        "#To predict the species of 2 unknown iris flowers\n",
        "unknown = [[76,34,5,2.4],       \n",
        "           [5,3.9,2,0.3]] #assigning the characteristics of 2 iris flowers of unknown species to unknown\n",
        "pred = knn1.predict(unknown)  #predicting the species of the unknown iris flowers\n",
        "print(\"Predicted species: \", pred)   #print the predicted species\n"
      ],
      "execution_count": 0,
      "outputs": [
        {
          "output_type": "stream",
          "text": [
            "The accuracy of the model:  0.9777777777777777\n",
            "Predicted species:  ['Iris-virginica' 'Iris-setosa']\n"
          ],
          "name": "stdout"
        }
      ]
    },
    {
      "cell_type": "markdown",
      "metadata": {
        "id": "kucCZODwt_uq",
        "colab_type": "text"
      },
      "source": [
        "**CONCLUSION**\n",
        "\n",
        "*We have taken the data of iris-flower.*\n",
        "\n",
        "The accuracy in each method is as follows :\n",
        "\n",
        "Logistic Regression - 96.6%\n",
        "\n",
        "SVM - 100%\n",
        "\n",
        "DECISION TREE - 93.3%\n",
        "\n",
        "KNN - 97.7%\n",
        "\n",
        "SVM Technique worked best for the data since it has the good accuracy.\n"
      ]
    },
    {
      "cell_type": "markdown",
      "metadata": {
        "id": "nK7-sZz6tIgh",
        "colab_type": "text"
      },
      "source": [
        "# TEAM CONTRIBUTORS\n",
        "\n",
        "**U.PRIYANKA - 19PA1A05I2**\n",
        "\n",
        "**SK.ARSHIYA FARHEEN JAHAN - 19PA1A05G7**\n",
        "\n",
        "**P.MONICA RANI - 19PA1A05E1**\n",
        "\n",
        "**D.VAISHNAVI - 19PA1A0538**"
      ]
    }
  ]
}