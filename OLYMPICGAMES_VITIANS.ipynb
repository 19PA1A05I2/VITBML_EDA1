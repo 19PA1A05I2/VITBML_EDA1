{
  "nbformat": 4,
  "nbformat_minor": 0,
  "metadata": {
    "colab": {
      "name": "OLYMPICGAMES_VITIANS.ipynb",
      "provenance": [],
      "authorship_tag": "ABX9TyNwkUG9MhAoSWanRpC8HerJ",
      "include_colab_link": true
    },
    "kernelspec": {
      "name": "python3",
      "display_name": "Python 3"
    }
  },
  "cells": [
    {
      "cell_type": "markdown",
      "metadata": {
        "id": "view-in-github",
        "colab_type": "text"
      },
      "source": [
        "<a href=\"https://colab.research.google.com/github/19PA1A05I2/VITBML_EDA1/blob/master/OLYMPICGAMES_VITIANS.ipynb\" target=\"_parent\"><img src=\"https://colab.research.google.com/assets/colab-badge.svg\" alt=\"Open In Colab\"/></a>"
      ]
    },
    {
      "cell_type": "markdown",
      "metadata": {
        "id": "s9PzVwUy_6ue",
        "colab_type": "text"
      },
      "source": [
        "                       Team Members:\n",
        "                  U.PRIYANKA - 19PA1A05I2\n",
        "                  SK.ARSHIYA FARHEEN - 19PA1A05G7\n",
        "                  P.MONICA RANI - 19PA1A05E1\n",
        "                  P.JERUSHA - 19PA1A05D2 \n",
        "\n",
        "\n",
        "120 YEARS OF OLYMPIC HISTORY :\n",
        "\n",
        "ATHELETS AND RESULTS\n",
        "\n",
        "\n",
        "Basic biodata on athletes and medal results from Athens 1896 to Rio 2016\n",
        "\n",
        "Context: This is a historical dataset on the modern Olympic Games, including all the Games from Athens 1896 to Rio 2016. Note that the Winter and Summer Games were held in the same year up until 1992. After that, they staggered them such that Winter Games occur on a four year cycle starting with 1994, then Summer in 1996, then Winter in 1998, and so on.\n",
        "\n"
      ]
    },
    {
      "cell_type": "markdown",
      "metadata": {
        "id": "UC0-sjydEbgk",
        "colab_type": "text"
      },
      "source": [
        "The file athlete_events.csv contains 271116 rows and 15 columns. Each row corresponds to an individual athlete competing in an individual Olympic event(athlete-events).The columns are:\n",
        "\n",
        "1.ID- Unique number for each athlete\n",
        "\n",
        "2.Name-  Athlete's name\n",
        "\n",
        "3.Sex- Male or Female\n",
        "\n",
        "4.Age- Integer\n",
        "\n",
        "5.Height- In centimeters\n",
        "\n",
        "6.Weight- In kilograms\n",
        "\n",
        "7.Team- Team name\n",
        "\n",
        "8.NOC- National Olympic Committee 3-letter code\n",
        "\n",
        "9.Games- Year and season\n",
        "\n",
        "10.Year- Interger\n",
        "\n",
        "11.Season- Summer or Winter\n",
        "\n",
        "12.City- Host ciy\n",
        "\n",
        "13.Sport- Sport\n",
        "\n",
        "14.Event- Event\n",
        "\n",
        "15.Medal- Gold,Silver,Bronze,NA\n",
        "\n"
      ]
    },
    {
      "cell_type": "markdown",
      "metadata": {
        "id": "0CGFFhe6G9Nc",
        "colab_type": "text"
      },
      "source": [
        "From this data set we would analyze and visualize about the following:\n",
        "\n",
        "*Considering what change in games over the years.\n",
        "\n",
        "*To observe the correlation between Age, Height, Weight.\n",
        "\n",
        "*Top 10 winning countries.\n",
        "\n",
        "*Importance of heavy athletes.\n",
        "\n",
        "*Most popular game.\n",
        "\n",
        "and write the conclusions about what we have observed."
      ]
    },
    {
      "cell_type": "markdown",
      "metadata": {
        "id": "LyS8fj7uJFpr",
        "colab_type": "text"
      },
      "source": [
        "First we would import the data and take the required dataframes and work on it. Each explanation would be given at the work."
      ]
    },
    {
      "cell_type": "markdown",
      "metadata": {
        "id": "LvZ5iAu5KPjz",
        "colab_type": "text"
      },
      "source": [
        "First we will answer to the questions:\n",
        "\n",
        "1.How to get the shape of dataset?\n",
        "\n",
        "2.How to get the first row?\n",
        "\n",
        "3.How to get the datatypes?\n",
        "\n",
        "4.How to describe the data?\n",
        "\n",
        "5.How to find and replace the NA values in dataset?\n",
        "\n",
        "6.How to subset multiple rows and columns?\n"
      ]
    },
    {
      "cell_type": "code",
      "metadata": {
        "id": "Q39VaWscQjQI",
        "colab_type": "code",
        "outputId": "264a38a1-7bd7-4a0c-e049-b69389a5506f",
        "colab": {
          "base_uri": "https://localhost:8080/",
          "height": 277
        }
      },
      "source": [
        "import numpy as np\n",
        "import pandas as pd\n",
        "import seaborn as sns\n",
        "from matplotlib import pyplot as plt\n",
        "data=pd.read_csv(\"athlete_events.csv.zip\")\n",
        "data1=data.copy()\n",
        "print(data1)\n",
        "import random\n",
        "import scipy.stats as stt\n",
        "import warnings\n",
        "warnings.filterwarnings('ignore')\n",
        "%pylab inline"
      ],
      "execution_count": 0,
      "outputs": [
        {
          "output_type": "stream",
          "text": [
            "            ID  ... Medal\n",
            "0            1  ...   NaN\n",
            "1            2  ...   NaN\n",
            "2            3  ...   NaN\n",
            "3            4  ...  Gold\n",
            "4            5  ...   NaN\n",
            "...        ...  ...   ...\n",
            "271111  135569  ...   NaN\n",
            "271112  135570  ...   NaN\n",
            "271113  135570  ...   NaN\n",
            "271114  135571  ...   NaN\n",
            "271115  135571  ...   NaN\n",
            "\n",
            "[271116 rows x 15 columns]\n",
            "Populating the interactive namespace from numpy and matplotlib\n"
          ],
          "name": "stdout"
        }
      ]
    },
    {
      "cell_type": "code",
      "metadata": {
        "id": "RPw8EYx7MV6R",
        "colab_type": "code",
        "outputId": "2acd30c7-4cda-4e61-9885-4ceb7e0a7001",
        "colab": {
          "base_uri": "https://localhost:8080/",
          "height": 34
        }
      },
      "source": [
        "data1.shape"
      ],
      "execution_count": 0,
      "outputs": [
        {
          "output_type": "execute_result",
          "data": {
            "text/plain": [
              "(271116, 15)"
            ]
          },
          "metadata": {
            "tags": []
          },
          "execution_count": 65
        }
      ]
    },
    {
      "cell_type": "code",
      "metadata": {
        "id": "OJv07UmtMg-g",
        "colab_type": "code",
        "outputId": "6e27b9d7-e4a5-440c-b9a1-c97b22feff01",
        "colab": {
          "base_uri": "https://localhost:8080/",
          "height": 289
        }
      },
      "source": [
        "print(data1.loc[0])"
      ],
      "execution_count": 0,
      "outputs": [
        {
          "output_type": "stream",
          "text": [
            "ID                                  1\n",
            "Name                        A Dijiang\n",
            "Sex                                 M\n",
            "Age                                24\n",
            "Height                            180\n",
            "Weight                             80\n",
            "Team                            China\n",
            "NOC                               CHN\n",
            "Games                     1992 Summer\n",
            "Year                             1992\n",
            "Season                         Summer\n",
            "City                        Barcelona\n",
            "Sport                      Basketball\n",
            "Event     Basketball Men's Basketball\n",
            "Medal                             NaN\n",
            "Name: 0, dtype: object\n"
          ],
          "name": "stdout"
        }
      ]
    },
    {
      "cell_type": "code",
      "metadata": {
        "id": "ThSAN6bcNb_b",
        "colab_type": "code",
        "outputId": "59abe9ab-0414-4606-f467-d4b855be4cb1",
        "colab": {
          "base_uri": "https://localhost:8080/",
          "height": 289
        }
      },
      "source": [
        "data1.dtypes"
      ],
      "execution_count": 0,
      "outputs": [
        {
          "output_type": "execute_result",
          "data": {
            "text/plain": [
              "ID          int64\n",
              "Name       object\n",
              "Sex        object\n",
              "Age       float64\n",
              "Height    float64\n",
              "Weight    float64\n",
              "Team       object\n",
              "NOC        object\n",
              "Games      object\n",
              "Year        int64\n",
              "Season     object\n",
              "City       object\n",
              "Sport      object\n",
              "Event      object\n",
              "Medal      object\n",
              "dtype: object"
            ]
          },
          "metadata": {
            "tags": []
          },
          "execution_count": 67
        }
      ]
    },
    {
      "cell_type": "code",
      "metadata": {
        "id": "RybeIsVlRWx0",
        "colab_type": "code",
        "outputId": "844d0a5a-60fa-4c4e-c147-a78edb26deea",
        "colab": {
          "base_uri": "https://localhost:8080/",
          "height": 294
        }
      },
      "source": [
        "data1.describe()"
      ],
      "execution_count": 0,
      "outputs": [
        {
          "output_type": "execute_result",
          "data": {
            "text/html": [
              "<div>\n",
              "<style scoped>\n",
              "    .dataframe tbody tr th:only-of-type {\n",
              "        vertical-align: middle;\n",
              "    }\n",
              "\n",
              "    .dataframe tbody tr th {\n",
              "        vertical-align: top;\n",
              "    }\n",
              "\n",
              "    .dataframe thead th {\n",
              "        text-align: right;\n",
              "    }\n",
              "</style>\n",
              "<table border=\"1\" class=\"dataframe\">\n",
              "  <thead>\n",
              "    <tr style=\"text-align: right;\">\n",
              "      <th></th>\n",
              "      <th>ID</th>\n",
              "      <th>Age</th>\n",
              "      <th>Height</th>\n",
              "      <th>Weight</th>\n",
              "      <th>Year</th>\n",
              "    </tr>\n",
              "  </thead>\n",
              "  <tbody>\n",
              "    <tr>\n",
              "      <th>count</th>\n",
              "      <td>271116.000000</td>\n",
              "      <td>261642.000000</td>\n",
              "      <td>210945.000000</td>\n",
              "      <td>208241.000000</td>\n",
              "      <td>271116.000000</td>\n",
              "    </tr>\n",
              "    <tr>\n",
              "      <th>mean</th>\n",
              "      <td>68248.954396</td>\n",
              "      <td>25.556898</td>\n",
              "      <td>175.338970</td>\n",
              "      <td>70.702393</td>\n",
              "      <td>1978.378480</td>\n",
              "    </tr>\n",
              "    <tr>\n",
              "      <th>std</th>\n",
              "      <td>39022.286345</td>\n",
              "      <td>6.393561</td>\n",
              "      <td>10.518462</td>\n",
              "      <td>14.348020</td>\n",
              "      <td>29.877632</td>\n",
              "    </tr>\n",
              "    <tr>\n",
              "      <th>min</th>\n",
              "      <td>1.000000</td>\n",
              "      <td>10.000000</td>\n",
              "      <td>127.000000</td>\n",
              "      <td>25.000000</td>\n",
              "      <td>1896.000000</td>\n",
              "    </tr>\n",
              "    <tr>\n",
              "      <th>25%</th>\n",
              "      <td>34643.000000</td>\n",
              "      <td>21.000000</td>\n",
              "      <td>168.000000</td>\n",
              "      <td>60.000000</td>\n",
              "      <td>1960.000000</td>\n",
              "    </tr>\n",
              "    <tr>\n",
              "      <th>50%</th>\n",
              "      <td>68205.000000</td>\n",
              "      <td>24.000000</td>\n",
              "      <td>175.000000</td>\n",
              "      <td>70.000000</td>\n",
              "      <td>1988.000000</td>\n",
              "    </tr>\n",
              "    <tr>\n",
              "      <th>75%</th>\n",
              "      <td>102097.250000</td>\n",
              "      <td>28.000000</td>\n",
              "      <td>183.000000</td>\n",
              "      <td>79.000000</td>\n",
              "      <td>2002.000000</td>\n",
              "    </tr>\n",
              "    <tr>\n",
              "      <th>max</th>\n",
              "      <td>135571.000000</td>\n",
              "      <td>97.000000</td>\n",
              "      <td>226.000000</td>\n",
              "      <td>214.000000</td>\n",
              "      <td>2016.000000</td>\n",
              "    </tr>\n",
              "  </tbody>\n",
              "</table>\n",
              "</div>"
            ],
            "text/plain": [
              "                  ID            Age  ...         Weight           Year\n",
              "count  271116.000000  261642.000000  ...  208241.000000  271116.000000\n",
              "mean    68248.954396      25.556898  ...      70.702393    1978.378480\n",
              "std     39022.286345       6.393561  ...      14.348020      29.877632\n",
              "min         1.000000      10.000000  ...      25.000000    1896.000000\n",
              "25%     34643.000000      21.000000  ...      60.000000    1960.000000\n",
              "50%     68205.000000      24.000000  ...      70.000000    1988.000000\n",
              "75%    102097.250000      28.000000  ...      79.000000    2002.000000\n",
              "max    135571.000000      97.000000  ...     214.000000    2016.000000\n",
              "\n",
              "[8 rows x 5 columns]"
            ]
          },
          "metadata": {
            "tags": []
          },
          "execution_count": 12
        }
      ]
    },
    {
      "cell_type": "code",
      "metadata": {
        "id": "7LagH1twSktf",
        "colab_type": "code",
        "outputId": "e836ab26-b1e7-46b8-a7c0-d4b7f00f22c2",
        "colab": {
          "base_uri": "https://localhost:8080/",
          "height": 364
        }
      },
      "source": [
        "data1.info()"
      ],
      "execution_count": 0,
      "outputs": [
        {
          "output_type": "stream",
          "text": [
            "<class 'pandas.core.frame.DataFrame'>\n",
            "RangeIndex: 271116 entries, 0 to 271115\n",
            "Data columns (total 15 columns):\n",
            "ID        271116 non-null int64\n",
            "Name      271116 non-null object\n",
            "Sex       271116 non-null object\n",
            "Age       261642 non-null float64\n",
            "Height    210945 non-null float64\n",
            "Weight    208241 non-null float64\n",
            "Team      271116 non-null object\n",
            "NOC       271116 non-null object\n",
            "Games     271116 non-null object\n",
            "Year      271116 non-null int64\n",
            "Season    271116 non-null object\n",
            "City      271116 non-null object\n",
            "Sport     271116 non-null object\n",
            "Event     271116 non-null object\n",
            "Medal     39783 non-null object\n",
            "dtypes: float64(3), int64(2), object(10)\n",
            "memory usage: 31.0+ MB\n"
          ],
          "name": "stdout"
        }
      ]
    },
    {
      "cell_type": "code",
      "metadata": {
        "id": "R63jjkJ0WgDX",
        "colab_type": "code",
        "outputId": "db26b601-928d-4541-f596-18153e832740",
        "colab": {
          "base_uri": "https://localhost:8080/",
          "height": 295
        }
      },
      "source": [
        "data1.isna().sum()"
      ],
      "execution_count": 0,
      "outputs": [
        {
          "output_type": "execute_result",
          "data": {
            "text/plain": [
              "ID             0\n",
              "Name           0\n",
              "Sex            0\n",
              "Age         9474\n",
              "Height     60171\n",
              "Weight     62875\n",
              "Team           0\n",
              "NOC            0\n",
              "Games          0\n",
              "Year           0\n",
              "Season         0\n",
              "City           0\n",
              "Sport          0\n",
              "Event          0\n",
              "Medal     231333\n",
              "dtype: int64"
            ]
          },
          "metadata": {
            "tags": []
          },
          "execution_count": 14
        }
      ]
    },
    {
      "cell_type": "markdown",
      "metadata": {
        "id": "2qeWCI_BJ5jB",
        "colab_type": "text"
      },
      "source": [
        ""
      ]
    },
    {
      "cell_type": "markdown",
      "metadata": {
        "id": "vYx10WoZXlWY",
        "colab_type": "text"
      },
      "source": [
        "Note:We can see that there are NA values in Age, Height, Weight, Medal we will replace with the value of mean in the particular columns."
      ]
    },
    {
      "cell_type": "code",
      "metadata": {
        "id": "Gz4sbNbaYPP2",
        "colab_type": "code",
        "outputId": "31fe0996-c271-41b5-bbfb-6d818b705f4c",
        "colab": {
          "base_uri": "https://localhost:8080/",
          "height": 260
        }
      },
      "source": [
        "data1[\"Age\"].mean()\n",
        "data1[\"Age\"].fillna(data1[\"Age\"].mean(),inplace=True)\n",
        "data1[\"Height\"].mean()\n",
        "data1[\"Height\"].fillna(data1[\"Height\"].mean(),inplace=True)\n",
        "data1[\"Weight\"].mean()\n",
        "data1[\"Weight\"].fillna(data1[\"Weight\"].mean(),inplace=True)\n",
        "print(data1)"
      ],
      "execution_count": 0,
      "outputs": [
        {
          "output_type": "stream",
          "text": [
            "            ID  ... Medal\n",
            "0            1  ...   NaN\n",
            "1            2  ...   NaN\n",
            "2            3  ...   NaN\n",
            "3            4  ...  Gold\n",
            "4            5  ...   NaN\n",
            "...        ...  ...   ...\n",
            "271111  135569  ...   NaN\n",
            "271112  135570  ...   NaN\n",
            "271113  135570  ...   NaN\n",
            "271114  135571  ...   NaN\n",
            "271115  135571  ...   NaN\n",
            "\n",
            "[271116 rows x 15 columns]\n"
          ],
          "name": "stdout"
        }
      ]
    },
    {
      "cell_type": "code",
      "metadata": {
        "id": "jEZ7x_6jbcuP",
        "colab_type": "code",
        "outputId": "aad71c53-3288-45cb-ba73-3491df2c0121",
        "colab": {
          "base_uri": "https://localhost:8080/",
          "height": 295
        }
      },
      "source": [
        "data1.isna().sum()"
      ],
      "execution_count": 0,
      "outputs": [
        {
          "output_type": "execute_result",
          "data": {
            "text/plain": [
              "ID             0\n",
              "Name           0\n",
              "Sex            0\n",
              "Age            0\n",
              "Height         0\n",
              "Weight         0\n",
              "Team           0\n",
              "NOC            0\n",
              "Games          0\n",
              "Year           0\n",
              "Season         0\n",
              "City           0\n",
              "Sport          0\n",
              "Event          0\n",
              "Medal     231333\n",
              "dtype: int64"
            ]
          },
          "metadata": {
            "tags": []
          },
          "execution_count": 32
        }
      ]
    },
    {
      "cell_type": "code",
      "metadata": {
        "id": "jEXN_ssgOP4r",
        "colab_type": "code",
        "outputId": "779171a6-926d-40f7-b400-ed60426ae2f5",
        "colab": {
          "base_uri": "https://localhost:8080/",
          "height": 85
        }
      },
      "source": [
        "print(data1.iloc[[0,99,999],[0,3,5]])"
      ],
      "execution_count": 0,
      "outputs": [
        {
          "output_type": "stream",
          "text": [
            "      ID   Age  Weight\n",
            "0      1  24.0    80.0\n",
            "99    35  24.0    98.0\n",
            "999  562  27.0    84.0\n"
          ],
          "name": "stdout"
        }
      ]
    },
    {
      "cell_type": "markdown",
      "metadata": {
        "id": "nAsIZE5pbiKf",
        "colab_type": "text"
      },
      "source": [
        "Since we can't change the NA in medals we will keep it unchanged."
      ]
    },
    {
      "cell_type": "markdown",
      "metadata": {
        "id": "cmxv8GwlqaW6",
        "colab_type": "text"
      },
      "source": [
        "Considering what change in games over the years"
      ]
    },
    {
      "cell_type": "code",
      "metadata": {
        "id": "oQQ4K3buqG98",
        "colab_type": "code",
        "outputId": "753ddeea-7fca-41c7-a8a0-835fa6f2eaa0",
        "colab": {
          "base_uri": "https://localhost:8080/",
          "height": 265
        }
      },
      "source": [
        "categ = pd.cut(data.Year,[1896,1916,1936,1956,1976,1996,2016])\n",
        "pd.value_counts(categ).plot(kind='barh');"
      ],
      "execution_count": 0,
      "outputs": [
        {
          "output_type": "display_data",
          "data": {
            "image/png": "[encoded data removed]",
            "text/plain": [
              "<Figure size 432x288 with 1 Axes>"
            ]
          },
          "metadata": {
            "tags": []
          }
        }
      ]
    },
    {
      "cell_type": "code",
      "metadata": {
        "id": "m6GpDZT9rlqF",
        "colab_type": "code",
        "outputId": "2249538d-54b0-4ace-f447-a26b84ca88f4",
        "colab": {
          "base_uri": "https://localhost:8080/",
          "height": 279
        }
      },
      "source": [
        "sns.boxplot(x='Season',y='Weight',hue='Sex',data=data);\n",
        "mal_weig = data.Weight[data.Sex=='M'].dropna()\n",
        "fem_weig = data.Weight[data.Sex=='F'].dropna()"
      ],
      "execution_count": 0,
      "outputs": [
        {
          "output_type": "display_data",
          "data": {
            "image/png": "[encoded data removed]",
            "text/plain": [
              "<Figure size 432x288 with 1 Axes>"
            ]
          },
          "metadata": {
            "tags": []
          }
        }
      ]
    },
    {
      "cell_type": "markdown",
      "metadata": {
        "id": "JQHOR1KnsWAH",
        "colab_type": "text"
      },
      "source": [
        "From this plot we can see that heavy athletes derive the graph from the normal distribution and they are an important part of this dataset.So,we need some transformation."
      ]
    },
    {
      "cell_type": "code",
      "metadata": {
        "id": "JOPUdh_-tqxk",
        "colab_type": "code",
        "outputId": "5f862d0c-c43b-4f25-aff3-597b8cf6dc90",
        "colab": {
          "base_uri": "https://localhost:8080/",
          "height": 238
        }
      },
      "source": [
        "mal_weig = data.Weight[data.Sex=='M'].dropna()\n",
        "fem_weig = data.Weight[data.Sex=='F'].dropna()\n",
        "fig = plt.figure(figsize=(10,10))\n",
        "fig.add_subplot(3,3,1)\n",
        "mal_weig.hist(bins=30)\n",
        "fem_weig.hist(bins=30)\n",
        "fig.add_subplot(3,3,2)\n",
        "stt.probplot(mal_weig, plot=pylab);\n",
        "fig.add_subplot(3,3,3)\n",
        "stt.probplot(fem_weig, plot=pylab);"
      ],
      "execution_count": 0,
      "outputs": [
        {
          "output_type": "display_data",
          "data": {
            "image/png": "[encoded data removed]",
            "text/plain": [
              "<Figure size 720x720 with 3 Axes>"
            ]
          },
          "metadata": {
            "tags": []
          }
        }
      ]
    },
    {
      "cell_type": "code",
      "metadata": {
        "id": "Fkl-PBns2VMX",
        "colab_type": "code",
        "outputId": "7fe637f2-05a2-4691-852f-7b0738743eb5",
        "colab": {
          "base_uri": "https://localhost:8080/",
          "height": 238
        }
      },
      "source": [
        "mal_weig = np.log(data.Weight[data.Sex=='M'].dropna())\n",
        "fem_weig = np.log(data.Weight[data.Sex=='F'].dropna())\n",
        "fig = plt.figure(figsize=(10,10))\n",
        "fig.add_subplot(3,3,1)\n",
        "mal_weig.hist(bins=30)\n",
        "fem_weig.hist(bins=30)\n",
        "fig.add_subplot(3,3,2)\n",
        "stt.probplot(mal_weig, plot=pylab);\n",
        "fig.add_subplot(3,3,3)\n",
        "stt.probplot(fem_weig, plot=pylab);"
      ],
      "execution_count": 0,
      "outputs": [
        {
          "output_type": "display_data",
          "data": {
            "image/png": "[encoded data removed]",
            "text/plain": [
              "<Figure size 720x720 with 3 Axes>"
            ]
          },
          "metadata": {
            "tags": []
          }
        }
      ]
    },
    {
      "cell_type": "markdown",
      "metadata": {
        "id": "fEsNLDw52coz",
        "colab_type": "text"
      },
      "source": [
        "Here we can see,that 2 most popular positions don't change through all time - Gymnastic and Athletics. Swimming has become popular since 1956."
      ]
    },
    {
      "cell_type": "code",
      "metadata": {
        "id": "WCvKoAiv3upL",
        "colab_type": "code",
        "outputId": "1ec7d6ec-790b-4c5e-fc26-ad9b2a2b04c4",
        "colab": {
          "base_uri": "https://localhost:8080/",
          "height": 899
        }
      },
      "source": [
        "fig = plt.figure(figsize=(15,15))\n",
        "ax1 = fig.add_subplot(3,3,1)\n",
        "ax1.set_title('1996 - 2016')\n",
        "pd.value_counts(data[data.Year>1996].Sport)[:10].plot(kind='barh');\n",
        "ax2 = fig.add_subplot(3,3,3)\n",
        "ax2.set_title('1976 - 1996')\n",
        "pd.value_counts(data[(data.Year<1996) & (data.Year>1976)].Sport)[:10].plot(kind='barh');\n",
        "ax3 = fig.add_subplot(3,3,4)\n",
        "ax3.set_title('1956 - 1976')\n",
        "pd.value_counts(data[(data.Year<1976) & (data.Year>1956)].Sport)[:10].plot(kind='barh');\n",
        "ax4 = fig.add_subplot(3,3,6)\n",
        "ax4.set_title('1936 - 1956')\n",
        "pd.value_counts(data[(data.Year<1956) & (data.Year>1936)].Sport)[:10].plot(kind='barh');\n",
        "ax5 = fig.add_subplot(3,3,7)\n",
        "ax5.set_title('1916 - 1936')\n",
        "pd.value_counts(data[(data.Year<1936) & (data.Year>1916)].Sport)[:10].plot(kind='barh');\n",
        "ax6 = fig.add_subplot(3,3,9)\n",
        "ax6.set_title('1896 - 1916')\n",
        "pd.value_counts(data[(data.Year<1916)].Sport)[:10].plot(kind='barh');"
      ],
      "execution_count": 0,
      "outputs": [
        {
          "output_type": "display_data",
          "data": {
            "image/png": "[encoded data removed]",
            "text/plain": [
              "<Figure size 1080x1080 with 6 Axes>"
            ]
          },
          "metadata": {
            "tags": []
          }
        }
      ]
    },
    {
      "cell_type": "markdown",
      "metadata": {
        "id": "XljTqfeo-_Wi",
        "colab_type": "text"
      },
      "source": [
        "Top 10 winning countries"
      ]
    },
    {
      "cell_type": "code",
      "metadata": {
        "id": "3EjJ5WwZ_Nfb",
        "colab_type": "code",
        "outputId": "7d45efb5-49b4-470a-8d5d-b4de675a6770",
        "colab": {
          "base_uri": "https://localhost:8080/",
          "height": 323
        }
      },
      "source": [
        "pd.value_counts(data[data.Medal.notnull()]['Team']).head(10).plot.bar();"
      ],
      "execution_count": 0,
      "outputs": [
        {
          "output_type": "display_data",
          "data": {
            "image/png": "[encoded data removed]",
            "text/plain": [
              "<Figure size 432x288 with 1 Axes>"
            ]
          },
          "metadata": {
            "tags": []
          }
        }
      ]
    },
    {
      "cell_type": "markdown",
      "metadata": {
        "id": "jtXNS8fh_jPG",
        "colab_type": "text"
      },
      "source": [
        " To observe the correlation matrix (age/weight/height)"
      ]
    },
    {
      "cell_type": "code",
      "metadata": {
        "id": "2q0wntPq_pLA",
        "colab_type": "code",
        "outputId": "6dde760a-7159-4725-dba8-4f5f9079effe",
        "colab": {
          "base_uri": "https://localhost:8080/",
          "height": 269
        }
      },
      "source": [
        "sns.heatmap(data[['Age','Height','Weight']].corr());"
      ],
      "execution_count": 0,
      "outputs": [
        {
          "output_type": "display_data",
          "data": {
            "image/png": "[encoded data removed]",
            "text/plain": [
              "<Figure size 432x288 with 2 Axes>"
            ]
          },
          "metadata": {
            "tags": []
          }
        }
      ]
    },
    {
      "cell_type": "markdown",
      "metadata": {
        "id": "MCXzUnz3Pu4L",
        "colab_type": "text"
      },
      "source": [
        "Conclusions:\n",
        "\n",
        "We can observe,\n",
        "\n",
        "The change in games over the years.\n",
        "\n",
        "Heavy athletes are the important part of data set.\n",
        "\n",
        "Gymnastics and athletics were popular and swimming had become popular since 1956.\n",
        "\n",
        "United States won the most.\n",
        "\n",
        "Correlation between Age,Height,Weight.\n",
        "\n",
        "We learnt how to use the libraries in colab and analyse and visualize the data.\n",
        "\n"
      ]
    }
  ]
}